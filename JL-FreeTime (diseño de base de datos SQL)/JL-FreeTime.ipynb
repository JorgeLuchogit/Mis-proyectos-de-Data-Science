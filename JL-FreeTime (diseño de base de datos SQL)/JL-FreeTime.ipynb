{
 "cells": [
  {
   "cell_type": "markdown",
   "metadata": {},
   "source": [
    "# **JL-FreeTime: Optimización y Análisis del Uso del Tiempo Libre** \n",
    "\n",
    "### **En este archivo ipybn se hace el diseño de una base de datos *SQL* enfocada en registrar la cantidad de tiempo invertida en actividades recreativas, con el fin de analizar el uso del tiempo libre y el progreso en tales actividades.**\n",
    "\n",
    "-La base de datos está creada a partir de la librería de Pyhton  ***sqlite3***. \n",
    "\n",
    "-El diseño está basado en las actividades que yo realizo. El código puede adaptarse a las actividades de cualquier usuario. \n",
    "\n",
    "## ***1. Construcción de la Base de datos***"
   ]
  },
  {
   "cell_type": "code",
   "execution_count": 1,
   "metadata": {},
   "outputs": [],
   "source": [
    "# Librerías necesarias:\n",
    "import pandas as pd \n",
    "import sqlite3"
   ]
  },
  {
   "cell_type": "code",
   "execution_count": 2,
   "metadata": {},
   "outputs": [],
   "source": [
    "# Creación y conexión de la base de datos\n",
    "conn = sqlite3.connect('JL-FreeTime.db')"
   ]
  },
  {
   "cell_type": "markdown",
   "metadata": {},
   "source": [
    "Para evitar escribir el código para abrir y cerrar los cursores en cada consulta, creamos la siguiente función: "
   ]
  },
  {
   "cell_type": "code",
   "execution_count": 3,
   "metadata": {},
   "outputs": [],
   "source": [
    "def queries_function(query, commit=False):\n",
    "\t\"\"\" \n",
    "\tFunción para crear tablas.\n",
    "\n",
    "\tquery:  Código SQL para generar la tabla. \n",
    "\tcommit: Indica que debe hacerse un commit cuando toma al valor True.\n",
    "\t\"\"\"\n",
    "\n",
    "\t# Abrir cursor\n",
    "\tcursor = conn.cursor()\n",
    "\n",
    "\t# Ejecución de la consulta\n",
    "\tcursor.execute(query)\n",
    "\n",
    "\t# Se hace commit de ser necesario\n",
    "\tif commit == True:\n",
    "\t\tconn.commit()\n",
    "\t\t\n",
    "\t# Cerrar cursor\n",
    "\tcursor.close()"
   ]
  },
  {
   "cell_type": "markdown",
   "metadata": {},
   "source": [
    "La tabla principal de la base de datos será la que registre la fecha. Se contemplan los campos **Año**, **Mes** y **Día** por separado con el fin de poder agrupar de manera directa cuando se quiera hacer un análisis:"
   ]
  },
  {
   "cell_type": "code",
   "execution_count": 4,
   "metadata": {},
   "outputs": [],
   "source": [
    "# Consulta para crear la tabla\n",
    "query = \"\"\" \n",
    "\t\tCREATE TABLE \"Fecha\" (\n",
    "\t\t\"Id_fecha\"\tINTEGER,\n",
    "\t\t\"Año\"\tINTEGER,\n",
    "\t\t\"Mes\"\tINTEGER,\n",
    "\t\t\"Día\"\tINTEGER,\n",
    "\t\tPRIMARY KEY(\"Id_fecha\" AUTOINCREMENT)\n",
    "\t);\n",
    "\t\"\"\"\n",
    "queries_function(query=query)\n",
    "\n",
    "# Ponemos una fecha de prueba:\n",
    "query = ''' \n",
    "\tINSERT INTO Fecha (Año, Mes, Día)\n",
    "    VALUES(2024, 11, 12)\n",
    "'''\n",
    "queries_function(query=query, commit=True)"
   ]
  },
  {
   "cell_type": "markdown",
   "metadata": {},
   "source": [
    "Corroboramos la creación de la tabla (y la de todas la tablas generadas a lo largo de este trabajo) extrayendo su información con la siguiente consulta:"
   ]
  },
  {
   "cell_type": "code",
   "execution_count": 5,
   "metadata": {},
   "outputs": [
    {
     "data": {
      "text/html": [
       "<div>\n",
       "<style scoped>\n",
       "    .dataframe tbody tr th:only-of-type {\n",
       "        vertical-align: middle;\n",
       "    }\n",
       "\n",
       "    .dataframe tbody tr th {\n",
       "        vertical-align: top;\n",
       "    }\n",
       "\n",
       "    .dataframe thead th {\n",
       "        text-align: right;\n",
       "    }\n",
       "</style>\n",
       "<table border=\"1\" class=\"dataframe\">\n",
       "  <thead>\n",
       "    <tr style=\"text-align: right;\">\n",
       "      <th></th>\n",
       "      <th>cid</th>\n",
       "      <th>name</th>\n",
       "      <th>type</th>\n",
       "      <th>notnull</th>\n",
       "      <th>dflt_value</th>\n",
       "      <th>pk</th>\n",
       "    </tr>\n",
       "  </thead>\n",
       "  <tbody>\n",
       "    <tr>\n",
       "      <th>0</th>\n",
       "      <td>0</td>\n",
       "      <td>Id_fecha</td>\n",
       "      <td>INTEGER</td>\n",
       "      <td>0</td>\n",
       "      <td>None</td>\n",
       "      <td>1</td>\n",
       "    </tr>\n",
       "    <tr>\n",
       "      <th>1</th>\n",
       "      <td>1</td>\n",
       "      <td>Año</td>\n",
       "      <td>INTEGER</td>\n",
       "      <td>0</td>\n",
       "      <td>None</td>\n",
       "      <td>0</td>\n",
       "    </tr>\n",
       "    <tr>\n",
       "      <th>2</th>\n",
       "      <td>2</td>\n",
       "      <td>Mes</td>\n",
       "      <td>INTEGER</td>\n",
       "      <td>0</td>\n",
       "      <td>None</td>\n",
       "      <td>0</td>\n",
       "    </tr>\n",
       "    <tr>\n",
       "      <th>3</th>\n",
       "      <td>3</td>\n",
       "      <td>Día</td>\n",
       "      <td>INTEGER</td>\n",
       "      <td>0</td>\n",
       "      <td>None</td>\n",
       "      <td>0</td>\n",
       "    </tr>\n",
       "  </tbody>\n",
       "</table>\n",
       "</div>"
      ],
      "text/plain": [
       "   cid      name     type  notnull dflt_value  pk\n",
       "0    0  Id_fecha  INTEGER        0       None   1\n",
       "1    1       Año  INTEGER        0       None   0\n",
       "2    2       Mes  INTEGER        0       None   0\n",
       "3    3       Día  INTEGER        0       None   0"
      ]
     },
     "execution_count": 5,
     "metadata": {},
     "output_type": "execute_result"
    }
   ],
   "source": [
    "\n",
    "# Nombre de la tabla:\n",
    "nombre_tabla = 'Fecha'\n",
    "\n",
    "# Obtener información de la tabla:\n",
    "query = f''' \n",
    "    PRAGMA table_info({nombre_tabla});\n",
    "'''\n",
    "# Guardar e imprimir la información de la tabla:\n",
    "Tabla_info = pd.read_sql_query(query, conn)\n",
    "Tabla_info"
   ]
  },
  {
   "cell_type": "markdown",
   "metadata": {},
   "source": [
    "También podemos observarla directamente:"
   ]
  },
  {
   "cell_type": "code",
   "execution_count": 6,
   "metadata": {},
   "outputs": [
    {
     "data": {
      "text/html": [
       "<div>\n",
       "<style scoped>\n",
       "    .dataframe tbody tr th:only-of-type {\n",
       "        vertical-align: middle;\n",
       "    }\n",
       "\n",
       "    .dataframe tbody tr th {\n",
       "        vertical-align: top;\n",
       "    }\n",
       "\n",
       "    .dataframe thead th {\n",
       "        text-align: right;\n",
       "    }\n",
       "</style>\n",
       "<table border=\"1\" class=\"dataframe\">\n",
       "  <thead>\n",
       "    <tr style=\"text-align: right;\">\n",
       "      <th></th>\n",
       "      <th>Id_fecha</th>\n",
       "      <th>Año</th>\n",
       "      <th>Mes</th>\n",
       "      <th>Día</th>\n",
       "    </tr>\n",
       "  </thead>\n",
       "  <tbody>\n",
       "    <tr>\n",
       "      <th>0</th>\n",
       "      <td>1</td>\n",
       "      <td>2024</td>\n",
       "      <td>11</td>\n",
       "      <td>12</td>\n",
       "    </tr>\n",
       "  </tbody>\n",
       "</table>\n",
       "</div>"
      ],
      "text/plain": [
       "   Id_fecha   Año  Mes  Día\n",
       "0         1  2024   11   12"
      ]
     },
     "execution_count": 6,
     "metadata": {},
     "output_type": "execute_result"
    }
   ],
   "source": [
    "query = ''' \n",
    "    SELECT * FROM Fecha\n",
    "'''\n",
    "tabla_info = pd.read_sql_query(query, conn)\n",
    "tabla_info  "
   ]
  },
  {
   "cell_type": "markdown",
   "metadata": {},
   "source": [
    "### ***1.1 Música***\n",
    "\n",
    "Un hobby que podemos registrar es la ***Música***. A grandes rasgos, se puede estudiar la teoría, practicar una canción o aprender una canción. \n",
    "\n",
    "Para registrar el tiempo invertido en la música se crea la siguiente tabla: "
   ]
  },
  {
   "cell_type": "code",
   "execution_count": 7,
   "metadata": {},
   "outputs": [],
   "source": [
    "query = ''' \n",
    "    CREATE TABLE \"Música\" (\n",
    "\t\"Id_música\"\tINTEGER,\n",
    "\t\"Id_fecha\"\tINTEGER,\n",
    "\t\"Teoría\"\tINTEGER DEFAULT 0,\n",
    "\t\"Práctica\"\tINTEGER DEFAULT 0,\n",
    "\t\"Aprender_canción\"\tINTEGER DEFAULT 0,\n",
    "\tFOREIGN KEY(\"Id_fecha\") REFERENCES \"Fecha\"(\"Id_fecha\"),\n",
    "\tPRIMARY KEY(\"Id_música\" AUTOINCREMENT)\n",
    ");\n",
    "'''\n",
    "queries_function(query=query)\n",
    "\n",
    "# Ponemos el registro de prueba:\n",
    "query = ''' \n",
    "\tINSERT INTO Música (Id_fecha)\n",
    "    VALUES(1)\n",
    "'''\n",
    "queries_function(query=query, commit=True)"
   ]
  },
  {
   "cell_type": "markdown",
   "metadata": {},
   "source": [
    "Donde basta tomar la suma sobre los campos ***Teoría***, ***Práctica***, ***Aprender canción*** para obtener el tiempo destinado a la música. \n",
    "\n",
    "Se coloca el registro de prueba debido a que la rutina para realizar un registro (que se proporciona en el repositorio de Github), consulta el Id del último registro realizado. Si el regsitro de prueba no es colocado, cuando el usuario realice su primer registro surgirá un error, pues no se encontrará un último registro. Puesto que los campos numéricos cuentan con 0 como valor por default, esto no afecta en absoluto. Por tal motivo algunas tablas contarán con un registro de prueba o con registros de ejemplos. \n",
    "\n",
    "Para registrar el progreso, consideramos los detalles de la práctica y el aprendizaje en cada sesión de música (identificado por ***Id_música***): "
   ]
  },
  {
   "cell_type": "code",
   "execution_count": 8,
   "metadata": {},
   "outputs": [],
   "source": [
    "query = ''' \n",
    "    CREATE TABLE \"Aspectos\" (\n",
    "\t\"Id_aspecto\"\tINTEGER,\n",
    "\t\"Aspecto\"\tTEXT,\n",
    "\tPRIMARY KEY(\"Id_aspecto\" AUTOINCREMENT)\n",
    ");\n",
    "'''\n",
    "queries_function(query=query)\n",
    "\n",
    "# Se agregan los aspectos:\n",
    "query = ''' \n",
    "    INSERT INTO Aspectos (Aspecto)\n",
    "    VALUES ('Teoría'),\n",
    "           ('Práctica'),\n",
    "           ('Aprender_Nuevo');\n",
    "'''\n",
    "queries_function(query=query, commit=True)"
   ]
  },
  {
   "cell_type": "markdown",
   "metadata": {},
   "source": [
    "Se pueden registra la información de las canciones aprendidas o practicadas mediante el registro de la información de las bandas que las tocan:"
   ]
  },
  {
   "cell_type": "code",
   "execution_count": 9,
   "metadata": {},
   "outputs": [],
   "source": [
    "query = ''' \n",
    "    CREATE TABLE \"Bandas\" (\n",
    "\t\"Id_banda\"\tINTEGER,\n",
    "\t\"Nombre_banda\"\tTEXT,\n",
    "\t\"Género\"\tTEXT,\n",
    "\t\"País\"\tTEXT,\n",
    "\tPRIMARY KEY(\"Id_banda\" AUTOINCREMENT)\n",
    ");\n",
    "'''\n",
    "queries_function(query=query)\n",
    "\n",
    "# Se agregan algunas bandas:\n",
    "query = ''' \n",
    "    INSERT INTO Bandas (Nombre_banda, Género, País)\n",
    "\tVALUES ('Dream_Theater','Prog_Metal','USA'),\n",
    "\t\t   ('Liquid_Tension_Experiment','Prog_Metal','USA'),\n",
    "\t       ('Molotov','Punk','México'),\n",
    "\t       ('Los_Búnkers','Rock','Chile'),\n",
    "           ('Avenged_Sevenfold', 'Heavy_Metal', 'USA');\n",
    "'''\n",
    "queries_function(query=query, commit=True)"
   ]
  },
  {
   "cell_type": "markdown",
   "metadata": {},
   "source": [
    "Así como la información de dichas canciones:"
   ]
  },
  {
   "cell_type": "code",
   "execution_count": 10,
   "metadata": {},
   "outputs": [],
   "source": [
    "query = ''' \n",
    "    CREATE TABLE \"Canciones\" (\n",
    "\t\"Id_canción\"\tINTEGER,\n",
    "\t\"Id_banda\"\tINTEGER,\n",
    "\t\"Nombre_canción\"\tTEXT,\n",
    "\t\"Duración\"\tINTEGER,\n",
    "    \"Completado\"\tINTEGER DEFAULT 0,\n",
    "\tFOREIGN KEY(\"Id_banda\") REFERENCES \"Bandas\"(\"Id_banda\"),\n",
    "\tPRIMARY KEY(\"Id_canción\" AUTOINCREMENT)\n",
    ");\n",
    "'''\n",
    "queries_function(query=query)\n",
    "\n",
    "# Se agragan algunas canciones:\n",
    "query = ''' \n",
    "\tINSERT INTO Canciones (Id_banda, Nombre_canción, Duración)\n",
    "\tVALUES (1, 'Stream_of_consciousness', 11),\n",
    "\t\t   (5, 'Afterlife', 4),\n",
    "\t\t   (2, 'Paradigma_shift', 6)\n",
    "'''\n",
    "queries_function(query=query, commit=True)"
   ]
  },
  {
   "cell_type": "markdown",
   "metadata": {},
   "source": [
    "El campo ***Completado*** toma valores 1 o 0 (si o no) y hace referencia a si ya se memorizaron todas las notas de la canción. La duración es en minutos.\n",
    "\n",
    "Con lo anterior se genera una tabla con los detalles de cada sesión de música:"
   ]
  },
  {
   "cell_type": "code",
   "execution_count": 11,
   "metadata": {},
   "outputs": [],
   "source": [
    "query= '''\n",
    "    CREATE TABLE \"Música_detalles\" (\n",
    "\t\"Id_música_detalles\"\tINTEGER,\n",
    "\t\"Id_música\"\tINTEGER,\n",
    "\t\"Id_canción\"\tINTEGER,\n",
    "\t\"Id_aspecto\"\tINTEGER,\n",
    "\tFOREIGN KEY(\"Id_canción\") REFERENCES \"Canciones\"(\"Id_canción\"),\n",
    "\tFOREIGN KEY(\"Id_aspecto\") REFERENCES \"Aspectos\"(\"Id_aspecto\"),\n",
    "\tFOREIGN KEY(\"Id_música\") REFERENCES \"Música\"(\"Id_música\"),\n",
    "\tPRIMARY KEY(\"Id_música_detalles\" AUTOINCREMENT)\n",
    ");\n",
    "'''\n",
    "queries_function(query=query)"
   ]
  },
  {
   "cell_type": "markdown",
   "metadata": {},
   "source": [
    "Corroboramos que se haya registrado la información:"
   ]
  },
  {
   "cell_type": "code",
   "execution_count": 12,
   "metadata": {},
   "outputs": [
    {
     "data": {
      "text/html": [
       "<div>\n",
       "<style scoped>\n",
       "    .dataframe tbody tr th:only-of-type {\n",
       "        vertical-align: middle;\n",
       "    }\n",
       "\n",
       "    .dataframe tbody tr th {\n",
       "        vertical-align: top;\n",
       "    }\n",
       "\n",
       "    .dataframe thead th {\n",
       "        text-align: right;\n",
       "    }\n",
       "</style>\n",
       "<table border=\"1\" class=\"dataframe\">\n",
       "  <thead>\n",
       "    <tr style=\"text-align: right;\">\n",
       "      <th></th>\n",
       "      <th>Id_canción</th>\n",
       "      <th>Id_banda</th>\n",
       "      <th>Nombre_canción</th>\n",
       "      <th>Duración</th>\n",
       "      <th>Completado</th>\n",
       "    </tr>\n",
       "  </thead>\n",
       "  <tbody>\n",
       "    <tr>\n",
       "      <th>0</th>\n",
       "      <td>1</td>\n",
       "      <td>1</td>\n",
       "      <td>Stream_of_consciousness</td>\n",
       "      <td>11</td>\n",
       "      <td>0</td>\n",
       "    </tr>\n",
       "    <tr>\n",
       "      <th>1</th>\n",
       "      <td>2</td>\n",
       "      <td>5</td>\n",
       "      <td>Afterlife</td>\n",
       "      <td>4</td>\n",
       "      <td>0</td>\n",
       "    </tr>\n",
       "    <tr>\n",
       "      <th>2</th>\n",
       "      <td>3</td>\n",
       "      <td>2</td>\n",
       "      <td>Paradigma_shift</td>\n",
       "      <td>6</td>\n",
       "      <td>0</td>\n",
       "    </tr>\n",
       "  </tbody>\n",
       "</table>\n",
       "</div>"
      ],
      "text/plain": [
       "   Id_canción  Id_banda           Nombre_canción  Duración  Completado\n",
       "0           1         1  Stream_of_consciousness        11           0\n",
       "1           2         5                Afterlife         4           0\n",
       "2           3         2          Paradigma_shift         6           0"
      ]
     },
     "execution_count": 12,
     "metadata": {},
     "output_type": "execute_result"
    }
   ],
   "source": [
    "query = ''' \n",
    "    SELECT * FROM Canciones\n",
    "'''\n",
    "Tabla_info = pd.read_sql_query(query, conn)\n",
    "Tabla_info"
   ]
  },
  {
   "cell_type": "markdown",
   "metadata": {},
   "source": [
    "### ***1.2 Actividad Física*** \n",
    "\n",
    "Para registrar el tiempo invertido en hacer ejercicio consideramos por separado el tiempo invertido en ejercicios de fuerza, flexibilidad, resistencia, técnica (si se practica alguna disciplina en particular) etc.: "
   ]
  },
  {
   "cell_type": "code",
   "execution_count": 13,
   "metadata": {},
   "outputs": [],
   "source": [
    "query = ''' \n",
    "    CREATE TABLE \"Actividad_física\" (\n",
    "\t\"Id_actividad_física\"\tINTEGER,\n",
    "\t\"Id_fecha\"\tINTEGER,\n",
    "\t\"Fuerza\"\tINTEGER DEFAULT 0,\n",
    "\t\"Flexibilidad\"\tINTEGER DEFAULT 0,\n",
    "\t\"Resistencia\"\tINTEGER DEFAULT 0,\n",
    "\t\"Técnica\"\tINTEGER DEFAULT 0,\n",
    "\tFOREIGN KEY(\"Id_fecha\") REFERENCES \"Fecha\"(\"Id_fecha\"),\n",
    "\tPRIMARY KEY(\"Id_actividad_física\" AUTOINCREMENT)\n",
    ");\n",
    "'''\n",
    "queries_function(query=query)\n",
    "\n",
    "# Registro de prueba:\n",
    "query = ''' \n",
    "\tINSERT INTO Actividad_física (Id_fecha)\n",
    "    VALUES(1)\n",
    "'''\n",
    "queries_function(query=query, commit=True)"
   ]
  },
  {
   "cell_type": "markdown",
   "metadata": {},
   "source": [
    "Así, el tiempo invertido es la suma de los tiempos en cada campo (que no es un id) de la tabla anterior. \n",
    "\n",
    "Para monitorear el progreso, consideramos ejercicios representativos como abdominales, sentadillas, lagartijas y una rutina de cardio o resistencia, y registramos el número máximo de repeticiones sin parar (primeros tres ejercicios) y el tiempo máximo sin parar (rutina de resistencia) en segundos. "
   ]
  },
  {
   "cell_type": "code",
   "execution_count": 14,
   "metadata": {},
   "outputs": [],
   "source": [
    "query = ''' \n",
    "    CREATE TABLE \"Progreso\" (\n",
    "\t\"Id_progreso\"\tINTEGER,\n",
    "\t\"Id_actividad_física\"\tINTEGER,\n",
    "\t\"Abdominales\"\tINTEGER DEFAULT 0,\n",
    "\t\"Sentadillas\"\tINTEGER DEFAULT 0,\n",
    "\t\"Lagartijas\"\tINTEGER DEFAULT 0,\n",
    "\t\"Rutina_de_resistencia\"\tREAL DEFAULT 0,\n",
    "\tPRIMARY KEY(\"Id_progreso\" AUTOINCREMENT),\n",
    "\tFOREIGN KEY(\"Id_actividad_física\") REFERENCES \"Actividad_física\"(\"Id_actividad_física\")\n",
    ");\n",
    "'''\n",
    "queries_function(query=query)\n",
    "\n",
    "# Registro de prueba:\n",
    "query = ''' \n",
    "\tINSERT INTO Progreso (Id_actividad_física)\n",
    "    VALUES(1)\n",
    "'''\n",
    "queries_function(query=query, commit=True)"
   ]
  },
  {
   "cell_type": "markdown",
   "metadata": {},
   "source": [
    "### ***1.3 Estudio***\n",
    "\n",
    "El tiempo de estudio (fuera del realizado en la escuela o el trabajo) puede registrarse considerando el tiempo dedicado a cierta área de estudio:"
   ]
  },
  {
   "cell_type": "code",
   "execution_count": 15,
   "metadata": {},
   "outputs": [],
   "source": [
    "query = ''' \n",
    "    CREATE TABLE \"Estudio\" (\n",
    "\t\"Id_estudio\"\tINTEGER,\n",
    "\t\"Id_fecha\"\tINTEGER,\n",
    "\t\"Física\"\tINTEGER DEFAULT 0,\n",
    "\t\"Matemáticas\"\tINTEGER DEFAULT 0,\n",
    "\t\"Ciencias_Biológicas\"\tINTEGER DEFAULT 0,\n",
    "\t\"Otro\"\tINTEGER DEFAULT 0,\n",
    "\tPRIMARY KEY(\"Id_estudio\" AUTOINCREMENT),\n",
    "\tFOREIGN KEY(\"Id_fecha\") REFERENCES \"Fecha\"(\"Id_fecha\")\n",
    ");\n",
    "''' \n",
    "queries_function(query=query)\n",
    "\n",
    "# Registro de prueba:\n",
    "query = ''' \n",
    "\tINSERT INTO Estudio (Id_fecha)\n",
    "    VALUES(1)\n",
    "'''\n",
    "queries_function(query=query, commit=True)"
   ]
  },
  {
   "cell_type": "markdown",
   "metadata": {},
   "source": [
    "Nuevamente, el tiempo de estudio es la suma de los tiempos registrados en la tabla. Los detalles de cada sesión de estudio se registran a partir de las materias estudiadas:"
   ]
  },
  {
   "cell_type": "code",
   "execution_count": 16,
   "metadata": {},
   "outputs": [],
   "source": [
    "query = ''' \n",
    "    CREATE TABLE \"Ramas\" (\n",
    "\t\"Id_rama\"\tINTEGER,\n",
    "\t\"Nombre_rama\"\tTEXT,\n",
    "\tPRIMARY KEY(\"Id_rama\" AUTOINCREMENT)\n",
    ");  \n",
    "'''\n",
    "queries_function(query=query)\n",
    "\n",
    "# Se agregan algunas materias:\n",
    "query = ''' \n",
    "    INSERT INTO Ramas (Nombre_rama)\n",
    "    VALUES ('Física'),\n",
    "           ('Matemáticas'),\n",
    "           ('Ciencias Biológicas'),\n",
    "           ('Finanzas/Economía');\n",
    "'''\n",
    "queries_function(query=query, commit=True)\n",
    "\n",
    "query = ''' \n",
    "    CREATE TABLE \"Materias\" (\n",
    "\t\"Id_materia\"\tINTEGER,\n",
    "    \"Id_rama\"\tINTEGER,\n",
    "\t\"Nombre_materia\"\tTEXT,\n",
    "\tPRIMARY KEY(\"Id_materia\" AUTOINCREMENT)\n",
    "    FOREIGN KEY(\"Id_rama\") REFERENCES \"Ramas\"(\"Id_rama\")\n",
    ");  \n",
    "'''\n",
    "queries_function(query=query)\n",
    "\n",
    "# Se agregan algunas materias:\n",
    "query = ''' \n",
    "    INSERT INTO Materias (Nombre_materia, Id_rama)\n",
    "    VALUES ('Termodinámica', 1),\n",
    "           ('Cálculo Diferencial', 2),\n",
    "           ('Cálculo Integral', 2),\n",
    "           ('Cálculo Diferencial de varias variables', 2),\n",
    "           ('Cálculo Integral de varias variables', 2),\n",
    "           ('Probabilidad y estadística', 2),\n",
    "           ('Mecánica', 1),\n",
    "           ('Relatividad', 1);\n",
    "'''\n",
    "queries_function(query=query, commit=True)"
   ]
  },
  {
   "cell_type": "markdown",
   "metadata": {},
   "source": [
    "Se puede registrar también el tiempo dedicado a cada materia:"
   ]
  },
  {
   "cell_type": "code",
   "execution_count": 17,
   "metadata": {},
   "outputs": [],
   "source": [
    "query = ''' \n",
    "    CREATE TABLE \"Estudio_detalles\" (\n",
    "\t\"Id_estudio_detalles\"\tINTEGER,\n",
    "\t\"Id_estudio\"\tINTEGER,\n",
    "\t\"Id_materia\"\tINTEGER,\n",
    "\tFOREIGN KEY(\"Id_materia\") REFERENCES \"Materias\"(\"Id_materia\"),\n",
    "\tFOREIGN KEY(\"Id_estudio\") REFERENCES \"Estudio\"(\"Id_estudio\"),\n",
    "\tPRIMARY KEY(\"Id_estudio_detalles\" AUTOINCREMENT)\n",
    "); \n",
    "'''\n",
    "queries_function(query=query)"
   ]
  },
  {
   "cell_type": "markdown",
   "metadata": {},
   "source": [
    "### ***1.4 Programación***\n",
    "\n",
    "Para registrar el tiempo usado en programación consideramos el invertido en la teoría y el invertido en la práctica:"
   ]
  },
  {
   "cell_type": "code",
   "execution_count": 18,
   "metadata": {},
   "outputs": [],
   "source": [
    "query = ''' \n",
    "    CREATE TABLE \"Programación\" (\n",
    "\t\"Id_programación\"\tINTEGER,\n",
    "\t\"Id_fecha\"\tINTEGER,\n",
    "\t\"Teoría\"\tINTEGER DEFAULT 0,\n",
    "\t\"Práctica\"\tINTEGER DEFAULT 0,\n",
    "\tPRIMARY KEY(\"Id_programación\" AUTOINCREMENT),\n",
    "    FOREIGN KEY(\"Id_fecha\") REFERENCES \"Fecha\"(\"Id_fecha\")\n",
    ");\n",
    "'''\n",
    "queries_function(query=query)\n",
    "\n",
    "# Registro de prueba:\n",
    "query = ''' \n",
    "\tINSERT INTO Programación (Id_fecha)\n",
    "    VALUES(1)\n",
    "'''\n",
    "queries_function(query=query, commit=True)"
   ]
  },
  {
   "cell_type": "markdown",
   "metadata": {},
   "source": [
    "En este caso consideramos los lenguajes de programación usados:"
   ]
  },
  {
   "cell_type": "code",
   "execution_count": 19,
   "metadata": {},
   "outputs": [],
   "source": [
    "query = ''' \n",
    "    CREATE TABLE \"Lenguajes\" (\n",
    "\t\"Id_lenguaje\"\tINTEGER,\n",
    "\t\"Nombre_lenguaje\"\tTEXT,\n",
    "\tPRIMARY KEY(\"Id_lenguaje\" AUTOINCREMENT)\n",
    ");\n",
    "'''\n",
    "queries_function(query=query)\n",
    "\n",
    "# Se agregan algunos lenguajes: \n",
    "query = ''' \n",
    "    INSERT INTO Lenguajes (Nombre_lenguaje)\n",
    "    VALUES ('Python'),\n",
    "           ('SQL'),\n",
    "           ('HTML + CSS + JS');\n",
    "'''\n",
    "queries_function(query=query, commit=True)"
   ]
  },
  {
   "cell_type": "markdown",
   "metadata": {},
   "source": [
    "Con lo cual se registra el tiempo invertido en practicar o aprender un lenguaje en específico:"
   ]
  },
  {
   "cell_type": "code",
   "execution_count": 20,
   "metadata": {},
   "outputs": [],
   "source": [
    "query = ''' \n",
    "    CREATE TABLE \"Programación_detalles\" (\n",
    "\t\"Id_programación_detalles\"\tINTEGER,\n",
    "\t\"Id_programación\"\tINTEGER,\n",
    "\t\"Id_lenguaje\"\tINTEGER,\n",
    "\t\"Id_aspecto\"\tINTEGER,\n",
    "\t\"Tiempo\"\tINTEGER DEFAULT 0,\n",
    "    FOREIGN KEY(\"Id_aspecto\") REFERENCES \"Aspectos\"(\"Id_aspecto\"),\n",
    "\tFOREIGN KEY(\"Id_lenguaje\") REFERENCES \"Lenguajes\"(\"Id_lenguaje\"),\n",
    "\tPRIMARY KEY(\"Id_programación_detalles\" AUTOINCREMENT)\n",
    ");\n",
    "'''\n",
    "queries_function(query=query)"
   ]
  },
  {
   "cell_type": "markdown",
   "metadata": {},
   "source": [
    "### ***1.5 Lectura***\n",
    "\n",
    "Se registran los libros que se están leyendo:\n",
    "\n"
   ]
  },
  {
   "cell_type": "code",
   "execution_count": 21,
   "metadata": {},
   "outputs": [],
   "source": [
    "query = '''\n",
    "    CREATE TABLE \"Libros\" (\n",
    "\t\"Id_libro\"\tINTEGER,\n",
    "\t\"Nombre_libro\"\tTEXT,\n",
    "\t\"Autor\"\tTEXT,\n",
    "\t\"Completado\"\tINTEGER DEFAULT 0,\n",
    "\tPRIMARY KEY(\"Id_libro\" AUTOINCREMENT)\n",
    ");\n",
    "'''\n",
    "queries_function(query=query)\n",
    "\n",
    "# Se agrega un libro:\n",
    "query = '''\n",
    "    INSERT INTO Libros (Nombre_libro, Autor)\n",
    "    VALUES ('Azteca', 'Gary Jennings');\n",
    "'''\n",
    "queries_function(query=query, commit=True)"
   ]
  },
  {
   "cell_type": "markdown",
   "metadata": {},
   "source": [
    "A partir de la cual creamos una tabla que registra el tiempo y el líbro leído cada día:"
   ]
  },
  {
   "cell_type": "code",
   "execution_count": 22,
   "metadata": {},
   "outputs": [],
   "source": [
    "query = ''' \n",
    "    CREATE TABLE \"Lectura\" (\n",
    "\t\"Id_lectura\"\tINTEGER,\n",
    "\t\"Id_fecha\"\tINTEGER,\n",
    "\t\"Id_libro\"\tINTEGER,\n",
    "\t\"Tiempo\"\tINTEGER DEFAULT 0,\n",
    "\tFOREIGN KEY(\"Id_libro\") REFERENCES \"Libros\"(\"Id_libro\"),\n",
    "\tFOREIGN KEY(\"Id_fecha\") REFERENCES \"Fecha\"(\"Id_fecha\"),\n",
    "\tPRIMARY KEY(\"Id_lectura\" AUTOINCREMENT)\n",
    ");\n",
    "'''\n",
    "queries_function(query=query)\n",
    "\n",
    "# Registro de prueba:\n",
    "query = ''' \n",
    "\tINSERT INTO Lectura (Id_fecha)\n",
    "    VALUES(1)\n",
    "'''\n",
    "queries_function(query=query, commit=True)"
   ]
  },
  {
   "cell_type": "markdown",
   "metadata": {},
   "source": [
    "### ***1.6 Dibujo***\n",
    "\n",
    "Creamos una tabla para registrar el tiempo invertido en la teoría o  práctica del dibujo:"
   ]
  },
  {
   "cell_type": "code",
   "execution_count": 23,
   "metadata": {},
   "outputs": [],
   "source": [
    "query = ''' \n",
    "    CREATE TABLE \"Dibujo\" (\n",
    "\t\"Id_dibujo\"\tINTEGER,\n",
    "\t\"Id_fecha\"\tINTEGER,\n",
    "\t\"Teoría\"\tINTEGER DEFAULT 0,\n",
    "\t\"Práctica\"\tINTEGER DEFAULT 0,\n",
    "\tFOREIGN KEY(\"Id_fecha\") REFERENCES \"Fecha\"(\"Id_fecha\"),\n",
    "\tPRIMARY KEY(\"Id_dibujo\" AUTOINCREMENT)\n",
    ");\n",
    "'''\n",
    "queries_function(query=query)\n",
    "\n",
    "# Registro de prueba:\n",
    "query = ''' \n",
    "\tINSERT INTO Dibujo (Id_fecha)\n",
    "    VALUES(1)\n",
    "'''\n",
    "queries_function(query=query, commit=True)"
   ]
  },
  {
   "cell_type": "markdown",
   "metadata": {},
   "source": [
    "registramos los dibujos hechos en caso de práctica y los temas estudiados en caso de estudiar la teoría, se registra también si el dibujo se terminó o si el tema se vió completamente (completado = 1 o 0)"
   ]
  },
  {
   "cell_type": "code",
   "execution_count": 24,
   "metadata": {},
   "outputs": [],
   "source": [
    "query = ''' \n",
    "    CREATE TABLE \"Obras\" (\n",
    "\t\"Id_obra\"\tINTEGER,\n",
    "\t\"Título\"\tTEXT,\n",
    "\t\"Técnica\"\tTEXT,\n",
    "\t\"Completado\"\tINTEGER DEFAULT 0,\n",
    "\tPRIMARY KEY(\"Id_obra\" AUTOINCREMENT)\n",
    ");\n",
    "'''\n",
    "queries_function(query=query)\n",
    "\n",
    "# Agregamos una obra:\n",
    "query = ''' \n",
    "\tINSERT INTO Obras (Título, Técnica, Completado)\n",
    "    VALUES('Estudio de teoría', 'Cualquiera', 0)\n",
    "'''\n",
    "queries_function(query=query, commit=True)"
   ]
  },
  {
   "cell_type": "markdown",
   "metadata": {},
   "source": [
    "De este modo se pueden registrar los detalles del tiempo dedicado a la realización de una obra en particular o de un tema en específico:"
   ]
  },
  {
   "cell_type": "code",
   "execution_count": 25,
   "metadata": {},
   "outputs": [],
   "source": [
    "query = ''' \n",
    "    CREATE TABLE \"Dibujo_detalles\" (\n",
    "\t\"Id_dibujo_detalles\"\tINTEGER,\n",
    "\t\"Id_aspecto\"\tINTEGER,\n",
    "\t\"Id_dibujo\"\tINTEGER,\n",
    "\t\"Id_obra\"\tINTEGER,\n",
    "\tFOREIGN KEY(\"Id_obra\") REFERENCES \"Obras\"(\"Id_obra\"),\n",
    "\tFOREIGN KEY(\"Id_aspecto\") REFERENCES \"Aspectos\"(\"Id_aspecto\"),\n",
    "\tPRIMARY KEY(\"Id_dibujo_detalles\" AUTOINCREMENT)\n",
    ");\n",
    "'''\n",
    "queries_function(query=query)"
   ]
  },
  {
   "cell_type": "markdown",
   "metadata": {},
   "source": [
    "### ***1.6 Idioma***\n",
    "\n",
    "Finalmente se puede registrar el tiempo invertido en aprender otro idioma. Para esto se considera el tiempo invertido en cada habilidad (Hablar, escribir, leer, escuchar, gramática) y por supuesto, el idioma en cuestión para aquellos políglotas:"
   ]
  },
  {
   "cell_type": "code",
   "execution_count": 26,
   "metadata": {},
   "outputs": [],
   "source": [
    "query = ''' \n",
    "    CREATE TABLE \"Idiomas\" (\n",
    "\t\"Id_idioma\"\tINTEGER,\n",
    "\t\"Idioma\"\tTEXT,\n",
    "\tPRIMARY KEY(\"Id_idioma\" AUTOINCREMENT)\n",
    ");\n",
    "'''\n",
    "queries_function(query=query)\n",
    "\n",
    "# Agregamos una Idioma:\n",
    "query = ''' \n",
    "\tINSERT INTO Idiomas (Idioma)\n",
    "    VALUES('Inglés')\n",
    "'''\n",
    "queries_function(query=query, commit=True)\n",
    "\n",
    "query = ''' \n",
    "    CREATE TABLE \"Aprender_idiomas\" (\n",
    "\t\"Id_aprender_idiomas\"\tINTEGER,\n",
    "\t\"Id_fecha\"\tINTEGER,\n",
    "\t\"Id_idioma\"\tINTEGER,\n",
    "\t\"Hablar\"\tINTEGER DEFAULT 0,\n",
    "\t\"Escuchar\"\tINTEGER DEFAULT 0,\n",
    "\t\"Escribir\"\tINTEGER DEFAULT 0,\n",
    "\t\"Leer\"\tINTEGER DEFAULT 0,\n",
    "\t\"Gramática\"\tINTEGER DEFAULT 0,\n",
    "\tFOREIGN KEY(\"Id_idioma\") REFERENCES \"Idioma\"(\"Id_idioma\"),\n",
    "\tFOREIGN KEY(\"Id_fecha\") REFERENCES \"Fecha\"(\"Id_fecha\"),\n",
    "\tPRIMARY KEY(\"Id_aprender_idiomas\" AUTOINCREMENT)\n",
    ");\n",
    "'''\n",
    "queries_function(query=query)\n",
    "\n",
    "# Registro de prueba:\n",
    "query = ''' \n",
    "\tINSERT INTO Aprender_idiomas (Id_fecha)\n",
    "    VALUES(1)\n",
    "'''\n",
    "queries_function(query=query, commit=True)"
   ]
  },
  {
   "cell_type": "markdown",
   "metadata": {},
   "source": [
    "El código escrito hasta ahora genera la siguiente base de datos:\n",
    "<br>\n",
    "<br>\n",
    "<center><div>\n",
    "<img src=\"Jl_FreeTimeC.png\" width=\"600\"/>\n",
    "<p> Figura 1: Base de datos JL-FreeTime para monitorear el uso del tiempo libre. <br> Los campos en amarillo corresponden a claves primarias. <br>Los campos en verde representan claves foráneas.</p>\n",
    "</div></center>\n",
    "<br>"
   ]
  }
 ],
 "metadata": {
  "kernelspec": {
   "display_name": "Python 3",
   "language": "python",
   "name": "python3"
  },
  "language_info": {
   "codemirror_mode": {
    "name": "ipython",
    "version": 3
   },
   "file_extension": ".py",
   "mimetype": "text/x-python",
   "name": "python",
   "nbconvert_exporter": "python",
   "pygments_lexer": "ipython3",
   "version": "3.9.13"
  }
 },
 "nbformat": 4,
 "nbformat_minor": 2
}
